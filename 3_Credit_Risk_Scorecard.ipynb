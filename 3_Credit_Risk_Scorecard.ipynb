{
 "cells": [
  {
   "cell_type": "code",
   "execution_count": 4,
   "id": "49bb68f9-6093-449b-a5c2-0f560765abff",
   "metadata": {},
   "outputs": [],
   "source": [
    "import pandas as pd\n",
    "import numpy as np"
   ]
  },
  {
   "cell_type": "code",
   "execution_count": 3,
   "id": "4dd56248-7c63-4141-98c5-675a1c2e2b72",
   "metadata": {},
   "outputs": [
    {
     "data": {
      "text/html": [
       "<div>\n",
       "<style scoped>\n",
       "    .dataframe tbody tr th:only-of-type {\n",
       "        vertical-align: middle;\n",
       "    }\n",
       "\n",
       "    .dataframe tbody tr th {\n",
       "        vertical-align: top;\n",
       "    }\n",
       "\n",
       "    .dataframe thead th {\n",
       "        text-align: right;\n",
       "    }\n",
       "</style>\n",
       "<table border=\"1\" class=\"dataframe\">\n",
       "  <thead>\n",
       "    <tr style=\"text-align: right;\">\n",
       "      <th></th>\n",
       "      <th>customer_id</th>\n",
       "      <th>credit_lines_outstanding</th>\n",
       "      <th>loan_amt_outstanding</th>\n",
       "      <th>total_debt_outstanding</th>\n",
       "      <th>income</th>\n",
       "      <th>years_employed</th>\n",
       "      <th>fico_score</th>\n",
       "      <th>default</th>\n",
       "    </tr>\n",
       "  </thead>\n",
       "  <tbody>\n",
       "    <tr>\n",
       "      <th>0</th>\n",
       "      <td>8153374</td>\n",
       "      <td>0</td>\n",
       "      <td>5221.545193</td>\n",
       "      <td>3915.471226</td>\n",
       "      <td>78039.38546</td>\n",
       "      <td>5</td>\n",
       "      <td>605</td>\n",
       "      <td>0</td>\n",
       "    </tr>\n",
       "    <tr>\n",
       "      <th>1</th>\n",
       "      <td>7442532</td>\n",
       "      <td>5</td>\n",
       "      <td>1958.928726</td>\n",
       "      <td>8228.752520</td>\n",
       "      <td>26648.43525</td>\n",
       "      <td>2</td>\n",
       "      <td>572</td>\n",
       "      <td>1</td>\n",
       "    </tr>\n",
       "    <tr>\n",
       "      <th>2</th>\n",
       "      <td>2256073</td>\n",
       "      <td>0</td>\n",
       "      <td>3363.009259</td>\n",
       "      <td>2027.830850</td>\n",
       "      <td>65866.71246</td>\n",
       "      <td>4</td>\n",
       "      <td>602</td>\n",
       "      <td>0</td>\n",
       "    </tr>\n",
       "    <tr>\n",
       "      <th>3</th>\n",
       "      <td>4885975</td>\n",
       "      <td>0</td>\n",
       "      <td>4766.648001</td>\n",
       "      <td>2501.730397</td>\n",
       "      <td>74356.88347</td>\n",
       "      <td>5</td>\n",
       "      <td>612</td>\n",
       "      <td>0</td>\n",
       "    </tr>\n",
       "    <tr>\n",
       "      <th>4</th>\n",
       "      <td>4700614</td>\n",
       "      <td>1</td>\n",
       "      <td>1345.827718</td>\n",
       "      <td>1768.826187</td>\n",
       "      <td>23448.32631</td>\n",
       "      <td>6</td>\n",
       "      <td>631</td>\n",
       "      <td>0</td>\n",
       "    </tr>\n",
       "  </tbody>\n",
       "</table>\n",
       "</div>"
      ],
      "text/plain": [
       "   customer_id  credit_lines_outstanding  loan_amt_outstanding  \\\n",
       "0      8153374                         0           5221.545193   \n",
       "1      7442532                         5           1958.928726   \n",
       "2      2256073                         0           3363.009259   \n",
       "3      4885975                         0           4766.648001   \n",
       "4      4700614                         1           1345.827718   \n",
       "\n",
       "   total_debt_outstanding       income  years_employed  fico_score  default  \n",
       "0             3915.471226  78039.38546               5         605        0  \n",
       "1             8228.752520  26648.43525               2         572        1  \n",
       "2             2027.830850  65866.71246               4         602        0  \n",
       "3             2501.730397  74356.88347               5         612        0  \n",
       "4             1768.826187  23448.32631               6         631        0  "
      ]
     },
     "execution_count": 3,
     "metadata": {},
     "output_type": "execute_result"
    }
   ],
   "source": [
    "data_path = \"data/Loan_Data.csv\"\n",
    "df = pd.read_csv(data_path)\n",
    "df.head()"
   ]
  },
  {
   "cell_type": "code",
   "execution_count": 27,
   "id": "55532002-2cad-4792-b166-8e28cafd9564",
   "metadata": {},
   "outputs": [
    {
     "name": "stderr",
     "output_type": "stream",
     "text": [
      "C:\\Users\\User\\.pyenv\\pyenv-win\\versions\\3.11.9\\Lib\\site-packages\\numpy\\core\\fromnumeric.py:59: FutureWarning: 'DataFrame.swapaxes' is deprecated and will be removed in a future version. Please use 'DataFrame.transpose' instead.\n",
      "  return bound(*args, **kwds)\n"
     ]
    },
    {
     "data": {
      "text/plain": [
       "5000"
      ]
     },
     "execution_count": 27,
     "metadata": {},
     "output_type": "execute_result"
    }
   ],
   "source": [
    "dev, val, holdout = np.split(\n",
    "    df.sample(frac=1, random_state=1),\n",
    "              [\n",
    "                  int(.5 * len(df)), \n",
    "                  int(.8 * len(df))\n",
    "              ]\n",
    "    )\n",
    "\n",
    "len(dev)"
   ]
  },
  {
   "cell_type": "code",
   "execution_count": 28,
   "id": "b078f58c-bb23-4c08-964c-22dee0c92f95",
   "metadata": {},
   "outputs": [
    {
     "data": {
      "text/plain": [
       "0       0\n",
       "1       1\n",
       "2       0\n",
       "3       0\n",
       "4       0\n",
       "       ..\n",
       "9995    0\n",
       "9996    0\n",
       "9997    0\n",
       "9998    0\n",
       "9999    0\n",
       "Name: default, Length: 10000, dtype: int64"
      ]
     },
     "execution_count": 28,
     "metadata": {},
     "output_type": "execute_result"
    }
   ],
   "source": [
    "df.default"
   ]
  },
  {
   "cell_type": "code",
   "execution_count": 29,
   "id": "15fd8d14-dd24-4c69-a472-a7c2a48bb94c",
   "metadata": {},
   "outputs": [
    {
     "name": "stdout",
     "output_type": "stream",
     "text": [
      "\n",
      "Population Default Rate: 18.51%\n",
      "Development Sample Default Rate: 18.48%\n",
      "Validation Sample Default Rate: 18.8%\n",
      "Holdout Sample Default Rate: 18.15%\n",
      "\n"
     ]
    }
   ],
   "source": [
    "# Check for sampling errors\n",
    "print(f\"\"\"\n",
    "Population Default Rate: {round(sum(df.default) * 100 / len(df), 2)}%\n",
    "Development Sample Default Rate: {round(sum(dev.default) * 100 / len(dev), 2)}%\n",
    "Validation Sample Default Rate: {round(sum(val.default) * 100 / len(val), 2)}%\n",
    "Holdout Sample Default Rate: {round(sum(holdout.default) * 100 / len(holdout), 2)}%\n",
    "\"\"\")"
   ]
  },
  {
   "cell_type": "markdown",
   "id": "b35bc307-7393-4efb-a828-ca29e0c95091",
   "metadata": {},
   "source": [
    "As seen, simple random sampling is effective in sampling for default rates. Alternatively, we can use stratified random sampling to make the default rate for each group (i.e., development, validation and holdout) more consistent."
   ]
  },
  {
   "cell_type": "code",
   "execution_count": 22,
   "id": "614bdb64-7faf-482b-8cad-5ff556a60aa8",
   "metadata": {},
   "outputs": [],
   "source": [
    "from sklearn.model_selection import train_test_split as tts"
   ]
  },
  {
   "cell_type": "code",
   "execution_count": 30,
   "id": "ec1b20d6-dc68-4beb-b03a-c5391ac1701e",
   "metadata": {},
   "outputs": [],
   "source": [
    "dev, temp = tts(\n",
    "    df, \n",
    "    test_size = 0.5, \n",
    "    stratify = df.default,\n",
    "    random_state = 1\n",
    ")"
   ]
  },
  {
   "cell_type": "code",
   "execution_count": 31,
   "id": "4fc0b9a7-cb8a-47fd-a7aa-387abd79785a",
   "metadata": {},
   "outputs": [],
   "source": [
    "val, holdout = tts(\n",
    "    temp,\n",
    "    test_size = 0.4,\n",
    "    stratify = temp.default,\n",
    "    random_state = 1\n",
    ")"
   ]
  },
  {
   "cell_type": "code",
   "execution_count": 33,
   "id": "af71f7b7-6b9e-4b94-b0c1-97f89b9601c7",
   "metadata": {},
   "outputs": [
    {
     "name": "stdout",
     "output_type": "stream",
     "text": [
      "\n",
      "Population Default Rate: 18.51%\n",
      "Development Sample Default Rate: 18.5%\n",
      "Validation Sample Default Rate: 18.53%\n",
      "Holdout Sample Default Rate: 18.5%\n",
      "\n"
     ]
    }
   ],
   "source": [
    "print(f\"\"\"\n",
    "Population Default Rate: {round(sum(df.default) * 100 / len(df), 2)}%\n",
    "Development Sample Default Rate: {round(sum(dev.default) * 100 / len(dev), 2)}%\n",
    "Validation Sample Default Rate: {round(sum(val.default) * 100 / len(val), 2)}%\n",
    "Holdout Sample Default Rate: {round(sum(holdout.default) * 100 / len(holdout), 2)}%\n",
    "\"\"\")"
   ]
  },
  {
   "cell_type": "markdown",
   "id": "c8681b75-591e-4b4d-9489-9a7d6335efe4",
   "metadata": {},
   "source": [
    "### Single-variable Logistic Regression Model"
   ]
  },
  {
   "cell_type": "code",
   "execution_count": 36,
   "id": "5e4fc7cf-6445-419f-a43e-705eb68d1f99",
   "metadata": {},
   "outputs": [
    {
     "data": {
      "text/html": [
       "<table class=\"simpletable\">\n",
       "<caption>Generalized Linear Model Regression Results</caption>\n",
       "<tr>\n",
       "  <th>Dep. Variable:</th>        <td>default</td>     <th>  No. Observations:  </th>  <td>  5000</td> \n",
       "</tr>\n",
       "<tr>\n",
       "  <th>Model:</th>                  <td>GLM</td>       <th>  Df Residuals:      </th>  <td>  4998</td> \n",
       "</tr>\n",
       "<tr>\n",
       "  <th>Model Family:</th>        <td>Binomial</td>     <th>  Df Model:          </th>  <td>     1</td> \n",
       "</tr>\n",
       "<tr>\n",
       "  <th>Link Function:</th>         <td>Logit</td>      <th>  Scale:             </th> <td>  1.0000</td>\n",
       "</tr>\n",
       "<tr>\n",
       "  <th>Method:</th>                <td>IRLS</td>       <th>  Log-Likelihood:    </th> <td> -2113.2</td>\n",
       "</tr>\n",
       "<tr>\n",
       "  <th>Date:</th>            <td>Fri, 08 Aug 2025</td> <th>  Deviance:          </th> <td>  4226.4</td>\n",
       "</tr>\n",
       "<tr>\n",
       "  <th>Time:</th>                <td>16:17:32</td>     <th>  Pearson chi2:      </th> <td>5.01e+03</td>\n",
       "</tr>\n",
       "<tr>\n",
       "  <th>No. Iterations:</th>          <td>5</td>        <th>  Pseudo R-squ. (CS):</th>  <td>0.1064</td> \n",
       "</tr>\n",
       "<tr>\n",
       "  <th>Covariance Type:</th>     <td>nonrobust</td>    <th>                     </th>     <td> </td>   \n",
       "</tr>\n",
       "</table>\n",
       "<table class=\"simpletable\">\n",
       "<tr>\n",
       "       <td></td>         <th>coef</th>     <th>std err</th>      <th>z</th>      <th>P>|z|</th>  <th>[0.025</th>    <th>0.975]</th>  \n",
       "</tr>\n",
       "<tr>\n",
       "  <th>Intercept</th>  <td>    8.2123</td> <td>    0.441</td> <td>   18.616</td> <td> 0.000</td> <td>    7.348</td> <td>    9.077</td>\n",
       "</tr>\n",
       "<tr>\n",
       "  <th>fico_score</th> <td>   -0.0156</td> <td>    0.001</td> <td>  -21.608</td> <td> 0.000</td> <td>   -0.017</td> <td>   -0.014</td>\n",
       "</tr>\n",
       "</table>"
      ],
      "text/latex": [
       "\\begin{center}\n",
       "\\begin{tabular}{lclc}\n",
       "\\toprule\n",
       "\\textbf{Dep. Variable:}   &     default      & \\textbf{  No. Observations:  } &     5000    \\\\\n",
       "\\textbf{Model:}           &       GLM        & \\textbf{  Df Residuals:      } &     4998    \\\\\n",
       "\\textbf{Model Family:}    &     Binomial     & \\textbf{  Df Model:          } &        1    \\\\\n",
       "\\textbf{Link Function:}   &      Logit       & \\textbf{  Scale:             } &    1.0000   \\\\\n",
       "\\textbf{Method:}          &       IRLS       & \\textbf{  Log-Likelihood:    } &   -2113.2   \\\\\n",
       "\\textbf{Date:}            & Fri, 08 Aug 2025 & \\textbf{  Deviance:          } &    4226.4   \\\\\n",
       "\\textbf{Time:}            &     16:17:32     & \\textbf{  Pearson chi2:      } &  5.01e+03   \\\\\n",
       "\\textbf{No. Iterations:}  &        5         & \\textbf{  Pseudo R-squ. (CS):} &   0.1064    \\\\\n",
       "\\textbf{Covariance Type:} &    nonrobust     & \\textbf{                     } &             \\\\\n",
       "\\bottomrule\n",
       "\\end{tabular}\n",
       "\\begin{tabular}{lcccccc}\n",
       "                     & \\textbf{coef} & \\textbf{std err} & \\textbf{z} & \\textbf{P$> |$z$|$} & \\textbf{[0.025} & \\textbf{0.975]}  \\\\\n",
       "\\midrule\n",
       "\\textbf{Intercept}   &       8.2123  &        0.441     &    18.616  &         0.000        &        7.348    &        9.077     \\\\\n",
       "\\textbf{fico\\_score} &      -0.0156  &        0.001     &   -21.608  &         0.000        &       -0.017    &       -0.014     \\\\\n",
       "\\bottomrule\n",
       "\\end{tabular}\n",
       "%\\caption{Generalized Linear Model Regression Results}\n",
       "\\end{center}"
      ],
      "text/plain": [
       "<class 'statsmodels.iolib.summary.Summary'>\n",
       "\"\"\"\n",
       "                 Generalized Linear Model Regression Results                  \n",
       "==============================================================================\n",
       "Dep. Variable:                default   No. Observations:                 5000\n",
       "Model:                            GLM   Df Residuals:                     4998\n",
       "Model Family:                Binomial   Df Model:                            1\n",
       "Link Function:                  Logit   Scale:                          1.0000\n",
       "Method:                          IRLS   Log-Likelihood:                -2113.2\n",
       "Date:                Fri, 08 Aug 2025   Deviance:                       4226.4\n",
       "Time:                        16:17:32   Pearson chi2:                 5.01e+03\n",
       "No. Iterations:                     5   Pseudo R-squ. (CS):             0.1064\n",
       "Covariance Type:            nonrobust                                         \n",
       "==============================================================================\n",
       "                 coef    std err          z      P>|z|      [0.025      0.975]\n",
       "------------------------------------------------------------------------------\n",
       "Intercept      8.2123      0.441     18.616      0.000       7.348       9.077\n",
       "fico_score    -0.0156      0.001    -21.608      0.000      -0.017      -0.014\n",
       "==============================================================================\n",
       "\"\"\""
      ]
     },
     "execution_count": 36,
     "metadata": {},
     "output_type": "execute_result"
    }
   ],
   "source": [
    "import statsmodels.formula.api as sm\n",
    "import statsmodels.api as sma\n",
    "\n",
    "my_logit = sm.glm(  # GLM = Generalized Linear Model\n",
    "    formula = \"default ~fico_score\", data = dev,\n",
    "    family = sma.families.Binomial()\n",
    ").fit()\n",
    "\n",
    "my_logit.summary()"
   ]
  },
  {
   "cell_type": "code",
   "execution_count": 37,
   "id": "3df32dfd-40c7-4a20-a424-272a1662be4c",
   "metadata": {},
   "outputs": [
    {
     "data": {
      "text/plain": [
       "0.9997245144892916"
      ]
     },
     "execution_count": 37,
     "metadata": {},
     "output_type": "execute_result"
    }
   ],
   "source": [
    "def sigmoid(x):\n",
    "    return 1 / (1 + np.exp(-x))\n",
    "\n",
    "sigmoid(8.2123 - 0.0156)"
   ]
  },
  {
   "cell_type": "code",
   "execution_count": 38,
   "id": "09b0576e-9b6d-4d56-8799-d1b0760d70d1",
   "metadata": {},
   "outputs": [
    {
     "data": {
      "text/html": [
       "<div>\n",
       "<style scoped>\n",
       "    .dataframe tbody tr th:only-of-type {\n",
       "        vertical-align: middle;\n",
       "    }\n",
       "\n",
       "    .dataframe tbody tr th {\n",
       "        vertical-align: top;\n",
       "    }\n",
       "\n",
       "    .dataframe thead th {\n",
       "        text-align: right;\n",
       "    }\n",
       "</style>\n",
       "<table border=\"1\" class=\"dataframe\">\n",
       "  <thead>\n",
       "    <tr style=\"text-align: right;\">\n",
       "      <th></th>\n",
       "      <th>customer_id</th>\n",
       "      <th>credit_lines_outstanding</th>\n",
       "      <th>loan_amt_outstanding</th>\n",
       "      <th>total_debt_outstanding</th>\n",
       "      <th>income</th>\n",
       "      <th>years_employed</th>\n",
       "      <th>fico_score</th>\n",
       "      <th>default</th>\n",
       "    </tr>\n",
       "  </thead>\n",
       "  <tbody>\n",
       "    <tr>\n",
       "      <th>count</th>\n",
       "      <td>5.000000e+03</td>\n",
       "      <td>5000.000000</td>\n",
       "      <td>5000.000000</td>\n",
       "      <td>5000.000000</td>\n",
       "      <td>5000.000000</td>\n",
       "      <td>5000.000000</td>\n",
       "      <td>5000.000000</td>\n",
       "      <td>5000.000000</td>\n",
       "    </tr>\n",
       "    <tr>\n",
       "      <th>mean</th>\n",
       "      <td>4.924076e+06</td>\n",
       "      <td>1.463600</td>\n",
       "      <td>4166.299904</td>\n",
       "      <td>8780.301994</td>\n",
       "      <td>70033.145403</td>\n",
       "      <td>4.552000</td>\n",
       "      <td>638.119000</td>\n",
       "      <td>0.185000</td>\n",
       "    </tr>\n",
       "    <tr>\n",
       "      <th>std</th>\n",
       "      <td>2.288148e+06</td>\n",
       "      <td>1.741862</td>\n",
       "      <td>1435.044371</td>\n",
       "      <td>6698.144495</td>\n",
       "      <td>20164.543357</td>\n",
       "      <td>1.561084</td>\n",
       "      <td>60.405399</td>\n",
       "      <td>0.388336</td>\n",
       "    </tr>\n",
       "    <tr>\n",
       "      <th>min</th>\n",
       "      <td>1.000324e+06</td>\n",
       "      <td>0.000000</td>\n",
       "      <td>57.348647</td>\n",
       "      <td>31.652732</td>\n",
       "      <td>1000.000000</td>\n",
       "      <td>0.000000</td>\n",
       "      <td>408.000000</td>\n",
       "      <td>0.000000</td>\n",
       "    </tr>\n",
       "    <tr>\n",
       "      <th>25%</th>\n",
       "      <td>2.913551e+06</td>\n",
       "      <td>0.000000</td>\n",
       "      <td>3135.359986</td>\n",
       "      <td>4192.718392</td>\n",
       "      <td>56686.278268</td>\n",
       "      <td>3.000000</td>\n",
       "      <td>598.000000</td>\n",
       "      <td>0.000000</td>\n",
       "    </tr>\n",
       "    <tr>\n",
       "      <th>50%</th>\n",
       "      <td>4.932271e+06</td>\n",
       "      <td>1.000000</td>\n",
       "      <td>4052.171922</td>\n",
       "      <td>6756.589651</td>\n",
       "      <td>70220.565090</td>\n",
       "      <td>5.000000</td>\n",
       "      <td>638.000000</td>\n",
       "      <td>0.000000</td>\n",
       "    </tr>\n",
       "    <tr>\n",
       "      <th>75%</th>\n",
       "      <td>6.871387e+06</td>\n",
       "      <td>2.000000</td>\n",
       "      <td>5058.564804</td>\n",
       "      <td>11496.912522</td>\n",
       "      <td>83316.641957</td>\n",
       "      <td>6.000000</td>\n",
       "      <td>679.000000</td>\n",
       "      <td>0.000000</td>\n",
       "    </tr>\n",
       "    <tr>\n",
       "      <th>max</th>\n",
       "      <td>8.996751e+06</td>\n",
       "      <td>5.000000</td>\n",
       "      <td>10467.732060</td>\n",
       "      <td>43688.784100</td>\n",
       "      <td>145404.751500</td>\n",
       "      <td>10.000000</td>\n",
       "      <td>850.000000</td>\n",
       "      <td>1.000000</td>\n",
       "    </tr>\n",
       "  </tbody>\n",
       "</table>\n",
       "</div>"
      ],
      "text/plain": [
       "        customer_id  credit_lines_outstanding  loan_amt_outstanding  \\\n",
       "count  5.000000e+03               5000.000000           5000.000000   \n",
       "mean   4.924076e+06                  1.463600           4166.299904   \n",
       "std    2.288148e+06                  1.741862           1435.044371   \n",
       "min    1.000324e+06                  0.000000             57.348647   \n",
       "25%    2.913551e+06                  0.000000           3135.359986   \n",
       "50%    4.932271e+06                  1.000000           4052.171922   \n",
       "75%    6.871387e+06                  2.000000           5058.564804   \n",
       "max    8.996751e+06                  5.000000          10467.732060   \n",
       "\n",
       "       total_debt_outstanding         income  years_employed   fico_score  \\\n",
       "count             5000.000000    5000.000000     5000.000000  5000.000000   \n",
       "mean              8780.301994   70033.145403        4.552000   638.119000   \n",
       "std               6698.144495   20164.543357        1.561084    60.405399   \n",
       "min                 31.652732    1000.000000        0.000000   408.000000   \n",
       "25%               4192.718392   56686.278268        3.000000   598.000000   \n",
       "50%               6756.589651   70220.565090        5.000000   638.000000   \n",
       "75%              11496.912522   83316.641957        6.000000   679.000000   \n",
       "max              43688.784100  145404.751500       10.000000   850.000000   \n",
       "\n",
       "           default  \n",
       "count  5000.000000  \n",
       "mean      0.185000  \n",
       "std       0.388336  \n",
       "min       0.000000  \n",
       "25%       0.000000  \n",
       "50%       0.000000  \n",
       "75%       0.000000  \n",
       "max       1.000000  "
      ]
     },
     "execution_count": 38,
     "metadata": {},
     "output_type": "execute_result"
    }
   ],
   "source": [
    "dev.describe(include = \"all\")"
   ]
  },
  {
   "cell_type": "markdown",
   "id": "c84ea7c5-d24a-4f58-8d7b-d8d155f33478",
   "metadata": {},
   "source": [
    "### Outlier Treatment"
   ]
  },
  {
   "cell_type": "code",
   "execution_count": 48,
   "id": "8b007988-e3cd-4dba-8244-14553dbb4e02",
   "metadata": {},
   "outputs": [
    {
     "data": {
      "text/plain": [
       "Text(0.5, 0, 'fico_score')"
      ]
     },
     "execution_count": 48,
     "metadata": {},
     "output_type": "execute_result"
    },
    {
     "data": {
      "image/png": "[encoded data removed]",
      "text/plain": [
       "<Figure size 900x500 with 1 Axes>"
      ]
     },
     "metadata": {},
     "output_type": "display_data"
    }
   ],
   "source": [
    "import matplotlib.pyplot as plt\n",
    "import seaborn as sns  # built on top of plt for better visualization\n",
    "%matplotlib inline\n",
    "\n",
    "x = \"fico_score\"\n",
    "plt.figure(figsize=(9,5))\n",
    "boxplot = sns.boxplot(\n",
    "    x = x,\n",
    "    data = dev,\n",
    "    showmeans = True,\n",
    "    width = 0.5, \n",
    "    # palette = \"colorblind\"\n",
    ")\n",
    "plt.title(f\"Boxplot for {x}\")\n",
    "plt.xlabel(f\"{x}\")"
   ]
  },
  {
   "cell_type": "markdown",
   "id": "4d7d68fb-3cba-49b7-9d2d-6573ebd99707",
   "metadata": {},
   "source": [
    "Notes:\n",
    "- As expected, income and fico score have similar boxplots. \n",
    "-  Common treatment for outliers is to equate them to their corresponding control limits (e.g., upper, lower)"
   ]
  },
  {
   "cell_type": "markdown",
   "id": "013d1630-1739-4cf3-8ee0-6a4cab28cd14",
   "metadata": {},
   "source": [
    "### Missing Value Imputation"
   ]
  },
  {
   "cell_type": "code",
   "execution_count": 50,
   "id": "0193d90f-5379-4ecf-a60d-115ebfcaba06",
   "metadata": {},
   "outputs": [
    {
     "data": {
      "text/plain": [
       "customer_id                 0\n",
       "credit_lines_outstanding    0\n",
       "loan_amt_outstanding        0\n",
       "total_debt_outstanding      0\n",
       "income                      0\n",
       "years_employed              0\n",
       "fico_score                  0\n",
       "default                     0\n",
       "dtype: int64"
      ]
     },
     "execution_count": 50,
     "metadata": {},
     "output_type": "execute_result"
    }
   ],
   "source": [
    "missing_df = df.isnull().sum(axis=0)\n",
    "missing_df"
   ]
  },
  {
   "cell_type": "markdown",
   "id": "179304ee-aa74-40cf-8f0a-90f36d9e754b",
   "metadata": {},
   "source": [
    "We have a complete dataset. Otherwise, there are various imputation methods:\n",
    "- initiate NAs to zero\n",
    "- central measures of tendency (e.g., mean, median, mode)\n",
    "- k-nearest neighbors\n",
    "- regression"
   ]
  },
  {
   "cell_type": "code",
   "execution_count": null,
   "id": "6a16c82c-1d86-43e3-81a3-a3883cef07bd",
   "metadata": {},
   "outputs": [],
   "source": []
  }
 ],
 "metadata": {
  "kernelspec": {
   "display_name": "Python 3 (ipykernel)",
   "language": "python",
   "name": "python3"
  },
  "language_info": {
   "codemirror_mode": {
    "name": "ipython",
    "version": 3
   },
   "file_extension": ".py",
   "mimetype": "text/x-python",
   "name": "python",
   "nbconvert_exporter": "python",
   "pygments_lexer": "ipython3",
   "version": "3.11.9"
  }
 },
 "nbformat": 4,
 "nbformat_minor": 5
}
